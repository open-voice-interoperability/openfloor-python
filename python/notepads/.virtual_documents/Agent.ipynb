


#add ../src to the path ready for python to find it
import sys
import os

# Add the src directory to the Python path
sys.path.append(os.path.abspath(os.path.join('..', 'src')))


#%pip install events


from openfloor import BotAgent, Manifest, Identification, Envelope

user_manifest = Manifest(
  Identification(
            conversationalName="John Doe",
            speakerUri="tag:userproxy.com,2025:abc123", 
            serviceUrl="https://userproxy.com",
            role="User"
        )
)

bot_manifest=Manifest.from_file("../sample_json/manifest1.json")
myagent=BotAgent(manifest=bot_manifest)

input_envelopes = [
    Envelope.from_file("../sample_json/envelope1.json",as_payload=True),
    Envelope.from_file("../sample_json/envelope2.json",as_payload=True)
]

for n in range(len(input_envelopes)):
    out_envelope = myagent.process_envelope(input_envelopes[n])
    out_envelope.to_file(f"../sample_json/out_envelope{n}.json",as_payload=True,indent=2)   




