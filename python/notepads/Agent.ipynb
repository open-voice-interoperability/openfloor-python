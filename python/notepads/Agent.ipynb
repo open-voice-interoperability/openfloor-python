{
 "cells": [
  {
   "cell_type": "markdown",
   "metadata": {},
   "source": [
    "# Testing out a basic OpenFloorAgent"
   ]
  },
  {
   "cell_type": "code",
   "execution_count": 1,
   "metadata": {},
   "outputs": [],
   "source": [
    "#add ../src to the path ready for python to find it\n",
    "import sys\n",
    "import os\n",
    "\n",
    "# Add the src directory to the Python path\n",
    "sys.path.append(os.path.abspath(os.path.join('..', 'src')))"
   ]
  },
  {
   "cell_type": "code",
   "execution_count": 2,
   "metadata": {},
   "outputs": [],
   "source": [
    "#%pip install events"
   ]
  },
  {
   "cell_type": "code",
   "execution_count": 3,
   "metadata": {},
   "outputs": [
    {
     "ename": "ModuleNotFoundError",
     "evalue": "No module named 'events'",
     "output_type": "error",
     "traceback": [
      "\u001b[31m---------------------------------------------------------------------------\u001b[39m",
      "\u001b[31mModuleNotFoundError\u001b[39m                       Traceback (most recent call last)",
      "\u001b[36mCell\u001b[39m\u001b[36m \u001b[39m\u001b[32mIn[3]\u001b[39m\u001b[32m, line 1\u001b[39m\n\u001b[32m----> \u001b[39m\u001b[32m1\u001b[39m \u001b[38;5;28;01mfrom\u001b[39;00m\u001b[38;5;250m \u001b[39m\u001b[34;01mopenfloor\u001b[39;00m\u001b[38;5;250m \u001b[39m\u001b[38;5;28;01mimport\u001b[39;00m BotAgent, Manifest, Identification, Envelope\n\u001b[32m      3\u001b[39m user_manifest = Manifest(\n\u001b[32m      4\u001b[39m   Identification(\n\u001b[32m      5\u001b[39m             conversationalName=\u001b[33m\"\u001b[39m\u001b[33mJohn Doe\u001b[39m\u001b[33m\"\u001b[39m,\n\u001b[32m   (...)\u001b[39m\u001b[32m      9\u001b[39m         )\n\u001b[32m     10\u001b[39m )\n\u001b[32m     12\u001b[39m bot_manifest=Manifest.from_file(\u001b[33m\"\u001b[39m\u001b[33m../sample_json/manifest1.json\u001b[39m\u001b[33m\"\u001b[39m)\n",
      "\u001b[36mFile \u001b[39m\u001b[32m~\\OneDrive\\Open Voice Network\\GitHub\\openfloor\\python\\src\\openfloor\\__init__.py:6\u001b[39m\n\u001b[32m      4\u001b[39m \u001b[38;5;28;01mfrom\u001b[39;00m\u001b[38;5;250m \u001b[39m\u001b[34;01m.\u001b[39;00m\u001b[34;01mevents\u001b[39;00m\u001b[38;5;250m \u001b[39m\u001b[38;5;28;01mimport\u001b[39;00m *\n\u001b[32m      5\u001b[39m \u001b[38;5;28;01mfrom\u001b[39;00m\u001b[38;5;250m \u001b[39m\u001b[34;01m.\u001b[39;00m\u001b[34;01mjson_serializable\u001b[39;00m\u001b[38;5;250m \u001b[39m\u001b[38;5;28;01mimport\u001b[39;00m *\n\u001b[32m----> \u001b[39m\u001b[32m6\u001b[39m \u001b[38;5;28;01mfrom\u001b[39;00m\u001b[38;5;250m \u001b[39m\u001b[34;01m.\u001b[39;00m\u001b[34;01magent\u001b[39;00m\u001b[38;5;250m \u001b[39m\u001b[38;5;28;01mimport\u001b[39;00m *\n\u001b[32m      7\u001b[39m __all__ = [\n\u001b[32m      8\u001b[39m     \u001b[33m\"\u001b[39m\u001b[33mDialogEvent\u001b[39m\u001b[33m\"\u001b[39m, \n\u001b[32m      9\u001b[39m     \u001b[33m\"\u001b[39m\u001b[33mDialogHistory\u001b[39m\u001b[33m\"\u001b[39m,\n\u001b[32m   (...)\u001b[39m\u001b[32m     36\u001b[39m     \u001b[33m\"\u001b[39m\u001b[33mBotAgent\u001b[39m\u001b[33m\"\u001b[39m,\n\u001b[32m     37\u001b[39m     ]\n",
      "\u001b[36mFile \u001b[39m\u001b[32m~\\OneDrive\\Open Voice Network\\GitHub\\openfloor\\python\\src\\openfloor\\agent.py:2\u001b[39m\n\u001b[32m      1\u001b[39m \u001b[38;5;28;01mfrom\u001b[39;00m\u001b[38;5;250m \u001b[39m\u001b[34;01mtyping\u001b[39;00m\u001b[38;5;250m \u001b[39m\u001b[38;5;28;01mimport\u001b[39;00m Optional, List, Tuple, Dict\n\u001b[32m----> \u001b[39m\u001b[32m2\u001b[39m \u001b[38;5;28;01mimport\u001b[39;00m\u001b[38;5;250m \u001b[39m\u001b[34;01mevents\u001b[39;00m\u001b[38;5;250m \u001b[39m\u001b[38;5;28;01mas\u001b[39;00m\u001b[38;5;250m \u001b[39m\u001b[34;01mevents_module\u001b[39;00m\n\u001b[32m      3\u001b[39m \u001b[38;5;28;01mfrom\u001b[39;00m\u001b[38;5;250m \u001b[39m\u001b[34;01mabc\u001b[39;00m\u001b[38;5;250m \u001b[39m\u001b[38;5;28;01mimport\u001b[39;00m ABC, abstractmethod\n\u001b[32m      4\u001b[39m \u001b[38;5;28;01mfrom\u001b[39;00m\u001b[38;5;250m \u001b[39m\u001b[34;01mopenfloor\u001b[39;00m\u001b[38;5;250m \u001b[39m\u001b[38;5;28;01mimport\u001b[39;00m Parameters, DialogEvent, TextFeature, To, Sender, Manifest, Conversation, Envelope, Event, InviteEvent, UtteranceEvent, ContextEvent, UninviteEvent, DeclineInviteEvent, ByeEvent, GetManifestsEvent, PublishManifestsEvent, RequestFloorEvent, GrantFloorEvent, RevokeFloorEvent\n",
      "\u001b[31mModuleNotFoundError\u001b[39m: No module named 'events'"
     ]
    }
   ],
   "source": [
    "from openfloor import BotAgent, Manifest, Identification, Envelope\n",
    "\n",
    "user_manifest = Manifest(\n",
    "  Identification(\n",
    "            conversationalName=\"John Doe\",\n",
    "            speakerUri=\"tag:userproxy.com,2025:abc123\", \n",
    "            serviceUrl=\"https://userproxy.com\",\n",
    "            role=\"User\"\n",
    "        )\n",
    ")\n",
    "\n",
    "bot_manifest=Manifest.from_file(\"../sample_json/manifest1.json\")\n",
    "myagent=BotAgent(manifest=bot_manifest)\n",
    "\n",
    "input_envelopes = [\n",
    "    Envelope.from_file(\"../sample_json/envelope1.json\",as_payload=True),\n",
    "    Envelope.from_file(\"../sample_json/envelope2.json\",as_payload=True)\n",
    "]\n",
    "\n",
    "for n in range(len(input_envelopes)):\n",
    "    out_envelope = myagent.process_envelope(input_envelopes[n])\n",
    "    out_envelope.to_file(f\"../sample_json/out_envelope{n}.json\",as_payload=True,indent=2)   \n"
   ]
  },
  {
   "cell_type": "code",
   "execution_count": null,
   "metadata": {},
   "outputs": [],
   "source": []
  }
 ],
 "metadata": {
  "kernelspec": {
   "display_name": "Python 3 (ipykernel)",
   "language": "python",
   "name": "python3"
  },
  "language_info": {
   "codemirror_mode": {
    "name": "ipython",
    "version": 3
   },
   "file_extension": ".py",
   "mimetype": "text/x-python",
   "name": "python",
   "nbconvert_exporter": "python",
   "pygments_lexer": "ipython3",
   "version": "3.11.4"
  }
 },
 "nbformat": 4,
 "nbformat_minor": 4
}
