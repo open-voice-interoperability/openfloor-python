{
 "cells": [
  {
   "cell_type": "markdown",
   "metadata": {},
   "source": [
    "# Testing out a basic OpenFloorAgent"
   ]
  },
  {
   "cell_type": "code",
   "execution_count": 1,
   "metadata": {},
   "outputs": [],
   "source": [
    "#add ../src to the path ready for python to find it\n",
    "import sys\n",
    "import os\n",
    "\n",
    "# Add the src directory to the Python path\n",
    "sys.path.append(os.path.abspath(os.path.join('..', 'src')))"
   ]
  },
  {
   "cell_type": "code",
   "execution_count": 2,
   "metadata": {},
   "outputs": [],
   "source": [
    "#%pip install events"
   ]
  },
  {
   "cell_type": "code",
   "execution_count": 3,
   "metadata": {},
   "outputs": [
    {
     "name": "stdout",
     "output_type": "stream",
     "text": [
      "registered handlers: 8\n",
      "Entering bot_on_envelope\n",
      "self._active_conversation: None\n",
      "in_envelope.conversation.id: conv:558a5160-5937-4ca0-9b5e-4ee8f3e93a64\n",
      "Processing event: {\"eventType\": \"invite\", \"to\": {\"speakerUri\": \"tag:dev.travelbot,2025:0001\"}}\n",
      "Processing event with type: invite\n",
      "Entering bot_on_invite\n",
      "Entering bot_on_grant_floor\n",
      "out_envelope: {\"schema\": {\"version\": \"1.0.0\"}, \"conversation\": {\"id\": \"conv:558a5160-5937-4ca0-9b5e-4ee8f3e93a64\", \"conversants\": [{\"identification\": {\"speakerUri\": \"tag:userproxy.com,2025:abc123\", \"serviceUrl\": \"https://userproxy.com\", \"conversationalName\": \"John Doe\", \"role\": \"User\"}}]}, \"sender\": {\"speakerUri\": \"tag:dev.travelbot,2025:0001\", \"serviceUrl\": \"https://dev.travelbot.ee/openfloor/conversation\"}, \"events\": []}\n",
      "Entering bot_on_envelope\n",
      "self._active_conversation: Conversation(id='conv:558a5160-5937-4ca0-9b5e-4ee8f3e93a64', conversants=[])\n",
      "in_envelope.conversation.id: conv:558a5160-5937-4ca0-9b5e-4ee8f3e93a64\n",
      "Processing event: {\"eventType\": \"utterance\", \"to\": {\"speakerUri\": \"tag:dev.travelbot,2025:0001\", \"private\": true}, \"parameters\": {\"dialogEvent\": {\"id\": \"de:ac725b50-ff80-465a-a966-ee0de38b4a99\", \"speakerUri\": \"tag:userproxy.com,2025:abc123\", \"span\": {\"startTime\": \"2025-05-12T13:54:08.781524\"}, \"features\": {\"text\": {\"mimeType\": \"text/plain\", \"tokens\": [{\"value\": \"Give me the times to Vancouver!\"}]}}}}}\n",
      "Processing event with type: utterance\n",
      "Entering bot_on_utterance\n",
      "out_envelope: {\"schema\": {\"version\": \"1.0.0\"}, \"conversation\": {\"id\": \"conv:558a5160-5937-4ca0-9b5e-4ee8f3e93a64\", \"conversants\": [{\"identification\": {\"speakerUri\": \"tag:userproxy.com,2025:abc123\", \"serviceUrl\": \"https://userproxy.com\", \"conversationalName\": \"John Doe\", \"role\": \"User\"}}, {\"identification\": {\"speakerUri\": \"tag:dev.travelbot,2025:0001\", \"serviceUrl\": \"https://dev.travelbot.ee/openfloor/conversation\", \"organization\": \"Travelbot Inc.\", \"conversationalName\": \"travelbot\", \"department\": \"Reservations and Customer Service\", \"role\": \"Reservation Specialist\", \"synopsis\": \"Reservation specialist as part of the Travelbot system.\"}}]}, \"sender\": {\"speakerUri\": \"tag:dev.travelbot,2025:0001\", \"serviceUrl\": \"https://dev.travelbot.ee/openfloor/conversation\"}, \"events\": [{\"eventType\": \"utterance\", \"parameters\": {\"dialogEvent\": {\"id\": \"de:36cb6a90-96ba-4aad-a7eb-d0ab9f0c7976\", \"speakerUri\": \"tag:dev.travelbot,2025:0001\", \"span\": {\"startTime\": \"2025-05-12T15:28:37.352479\"}, \"features\": {\"text\": {\"mimeType\": \"text/plain\", \"tokens\": [{\"value\": \"Sorry! I'm a simple bot that has not been programmed to do anything yet.\"}]}}}}}]}\n"
     ]
    }
   ],
   "source": [
    "from openfloor import BotAgent, Manifest, Identification, Envelope\n",
    "\n",
    "user_manifest = Manifest(\n",
    "  Identification(\n",
    "            conversationalName=\"John Doe\",\n",
    "            speakerUri=\"tag:userproxy.com,2025:abc123\", \n",
    "            serviceUrl=\"https://userproxy.com\",\n",
    "            role=\"User\"\n",
    "        )\n",
    ")\n",
    "\n",
    "bot_manifest=Manifest.from_file(\"../sample_json/manifest1.json\")\n",
    "myagent=BotAgent(manifest=bot_manifest)\n",
    "\n",
    "input_envelopes = [\n",
    "    Envelope.from_file(\"../sample_json/envelope1.json\",as_payload=True),\n",
    "    Envelope.from_file(\"../sample_json/envelope2.json\",as_payload=True)\n",
    "]\n",
    "\n",
    "for n in range(len(input_envelopes)):\n",
    "    out_envelope = myagent.process_envelope(input_envelopes[n])\n",
    "    out_envelope.to_file(f\"../sample_json/out_envelope{n}.json\",as_payload=True,indent=2)   \n"
   ]
  }
 ],
 "metadata": {
  "kernelspec": {
   "display_name": "Python 3",
   "language": "python",
   "name": "python3"
  },
  "language_info": {
   "codemirror_mode": {
    "name": "ipython",
    "version": 3
   },
   "file_extension": ".py",
   "mimetype": "text/x-python",
   "name": "python",
   "nbconvert_exporter": "python",
   "pygments_lexer": "ipython3",
   "version": "3.12.7"
  }
 },
 "nbformat": 4,
 "nbformat_minor": 2
}
